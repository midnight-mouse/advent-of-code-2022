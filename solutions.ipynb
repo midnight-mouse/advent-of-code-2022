{
 "cells": [
  {
   "cell_type": "markdown",
   "id": "39a05b63",
   "metadata": {},
   "source": [
    "# Advent of Code"
   ]
  },
  {
   "cell_type": "markdown",
   "id": "a010f371",
   "metadata": {},
   "source": [
    "## Functions"
   ]
  },
  {
   "cell_type": "code",
   "execution_count": 21,
   "id": "523498b1",
   "metadata": {},
   "outputs": [],
   "source": [
    "def load_day(day, small=False):\n",
    "    \"\"\"Load puzzle input for a given day.\"\"\"\n",
    "    \n",
    "    filename = 'data/' + (f'{day}-small.txt' if small else f'{day}.txt')\n",
    "    \n",
    "    with open(filename) as f:\n",
    "        contents = f.read().strip()\n",
    "        \n",
    "    return contents"
   ]
  },
  {
   "cell_type": "code",
   "execution_count": 26,
   "id": "1fba259c",
   "metadata": {},
   "outputs": [],
   "source": [
    "def print_result(result):\n",
    "    \"\"\"Outputs the answer.\"\"\"\n",
    "    print(\"*\" * 30)\n",
    "    print(f'Answer: {result}')\n",
    "    print(\"*\" * 30)"
   ]
  },
  {
   "cell_type": "markdown",
   "id": "d251e236",
   "metadata": {},
   "source": [
    "## December 4"
   ]
  },
  {
   "cell_type": "markdown",
   "id": "a0caac68",
   "metadata": {},
   "source": [
    "**PART 1**\n",
    "- Turn ranges into sets\n",
    "- Join sets. If a is fully contained within b, their union will sill be b."
   ]
  },
  {
   "cell_type": "code",
   "execution_count": 27,
   "id": "96b1747b",
   "metadata": {},
   "outputs": [
    {
     "name": "stdout",
     "output_type": "stream",
     "text": [
      "******************************\n",
      "Answer: 651\n",
      "******************************\n"
     ]
    }
   ],
   "source": [
    "contents = load_day(4, small=False).split('\\n')\n",
    "\n",
    "# produce ranges\n",
    "ranges = [segment.split('-') for row in contents for segment in row.split(',')]\n",
    "ranges = [set(range(int(segment[0]), int(segment[1]) + 1)) for segment in ranges]\n",
    "\n",
    "# check how many sets is contained in one another\n",
    "contains = sum([(a | b == a) or (a | b == b) for a, b in zip(ranges[::2], ranges[1::2])])\n",
    "\n",
    "print_result(contains)"
   ]
  },
  {
   "cell_type": "markdown",
   "id": "8eab8080",
   "metadata": {},
   "source": [
    "**Part 2**\n",
    "- If two sets overlap, their individual lengths will be larger than the length of their union."
   ]
  },
  {
   "cell_type": "code",
   "execution_count": 28,
   "id": "5e3d4e40",
   "metadata": {},
   "outputs": [
    {
     "name": "stdout",
     "output_type": "stream",
     "text": [
      "******************************\n",
      "Answer: 956\n",
      "******************************\n"
     ]
    }
   ],
   "source": [
    "contents = load_day(4, small=False).split('\\n')\n",
    "\n",
    "# produce ranges\n",
    "ranges = [segment.split('-') for row in contents for segment in row.split(',')]\n",
    "ranges = [set(range(int(segment[0]), int(segment[1]) + 1)) for segment in ranges]\n",
    "\n",
    "# sets overlap if their union is smaller than each of them separately\n",
    "contains = sum([(len(a | b) < len(a) + len(b)) for a, b in zip(ranges[::2], ranges[1::2])])\n",
    "\n",
    "print_result(contains)"
   ]
  },
  {
   "cell_type": "code",
   "execution_count": null,
   "id": "c777dcdb",
   "metadata": {},
   "outputs": [],
   "source": []
  }
 ],
 "metadata": {
  "kernelspec": {
   "display_name": "Python 3 (ipykernel)",
   "language": "python",
   "name": "python3"
  },
  "language_info": {
   "codemirror_mode": {
    "name": "ipython",
    "version": 3
   },
   "file_extension": ".py",
   "mimetype": "text/x-python",
   "name": "python",
   "nbconvert_exporter": "python",
   "pygments_lexer": "ipython3",
   "version": "3.11.0"
  }
 },
 "nbformat": 4,
 "nbformat_minor": 5
}
